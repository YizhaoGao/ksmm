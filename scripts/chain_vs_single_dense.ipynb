{
 "cells": [
  {
   "cell_type": "code",
   "execution_count": 1,
   "id": "168fab5d",
   "metadata": {},
   "outputs": [],
   "source": [
    "import torch\n",
    "from ksmm_py.layer.kronecker_sparse.interface import KSLinear"
   ]
  },
  {
   "cell_type": "code",
   "execution_count": 2,
   "id": "9b6e2ac5",
   "metadata": {},
   "outputs": [
    {
     "data": {
      "text/plain": [
       "384"
      ]
     },
     "execution_count": 2,
     "metadata": {},
     "output_type": "execute_result"
    }
   ],
   "source": [
    "patterns = [(6, 64, 64, 1), (1, 768, 192, 2)] \n",
    "dim_in = patterns[0][0] * patterns[0][2] * patterns[0][3] # a_2 * c_2 * d_2\n",
    "dim_in"
   ]
  },
  {
   "cell_type": "code",
   "execution_count": 11,
   "id": "5ac9f708",
   "metadata": {},
   "outputs": [
    {
     "data": {
      "text/plain": [
       "319488"
      ]
     },
     "execution_count": 11,
     "metadata": {},
     "output_type": "execute_result"
    }
   ],
   "source": [
    "6 * 64 * 64 + 768 * 192 * 2"
   ]
  },
  {
   "cell_type": "code",
   "execution_count": 3,
   "id": "e2a9f35c",
   "metadata": {},
   "outputs": [
    {
     "data": {
      "text/plain": [
       "384"
      ]
     },
     "execution_count": 3,
     "metadata": {},
     "output_type": "execute_result"
    }
   ],
   "source": [
    "dim_in2 = patterns[1][0] * patterns[1][2] * patterns[1][3]\n",
    "dim_in2"
   ]
  },
  {
   "cell_type": "code",
   "execution_count": 4,
   "id": "42ccca0a",
   "metadata": {},
   "outputs": [],
   "source": [
    "weights = [torch.randn(*pattern) for pattern in patterns]\n",
    "batch_size = 196\n",
    "batch_size_last = True\n",
    "device = 'cuda'\n",
    "x = torch.randn((dim_in, batch_size) if batch_size_last else (batch_size, dim_in), \n",
    "                dtype=torch.float16, # torch.float16 is fine too\n",
    "                device=device)"
   ]
  },
  {
   "cell_type": "code",
   "execution_count": 5,
   "id": "609eaf49",
   "metadata": {},
   "outputs": [],
   "source": [
    "ksl = KSLinear(patterns=patterns, weights=weights, algo='dense', dtype=x.dtype, bs_last=batch_size_last, device=device)"
   ]
  },
  {
   "cell_type": "code",
   "execution_count": 6,
   "id": "10f1b61b",
   "metadata": {},
   "outputs": [
    {
     "data": {
      "text/plain": [
       "(Parameter containing:\n",
       " tensor([[-1.2334, -0.7241, -1.1797,  ...,  0.0000,  0.0000,  0.0000],\n",
       "         [-0.3420, -0.2401,  1.4570,  ...,  0.0000,  0.0000,  0.0000],\n",
       "         [-1.8906,  1.0273, -0.1937,  ...,  0.0000,  0.0000,  0.0000],\n",
       "         ...,\n",
       "         [ 0.0000,  0.0000,  0.0000,  ...,  0.3267, -0.6533, -0.4280],\n",
       "         [ 0.0000,  0.0000,  0.0000,  ..., -0.0029,  1.6699, -1.1270],\n",
       "         [ 0.0000,  0.0000,  0.0000,  ..., -1.0000,  1.8564, -0.3325]],\n",
       "        device='cuda:0', dtype=torch.float16, requires_grad=True),\n",
       " Parameter containing:\n",
       " tensor([[-0.3025,  0.0000, -1.0645,  ...,  0.0000, -1.8242,  0.0000],\n",
       "         [ 0.0000, -0.3081,  0.0000,  ...,  2.7988,  0.0000,  2.3457],\n",
       "         [-2.6836,  0.0000,  0.5244,  ...,  0.0000, -1.9473,  0.0000],\n",
       "         ...,\n",
       "         [ 0.0000,  0.5308,  0.0000,  ..., -1.3379,  0.0000, -0.2208],\n",
       "         [-0.3862,  0.0000,  0.8008,  ...,  0.0000,  1.3477,  0.0000],\n",
       "         [ 0.0000, -0.4434,  0.0000,  ...,  1.1406,  0.0000,  0.2358]],\n",
       "        device='cuda:0', dtype=torch.float16, requires_grad=True))"
      ]
     },
     "execution_count": 6,
     "metadata": {},
     "output_type": "execute_result"
    }
   ],
   "source": [
    "ksl.factors[0], ksl.factors[1]"
   ]
  },
  {
   "cell_type": "code",
   "execution_count": 7,
   "id": "0868bdd0",
   "metadata": {},
   "outputs": [
    {
     "data": {
      "text/plain": [
       "(tensor([[-1.0303, 10.1875, -1.1904,  ...,  3.1270, -2.2344,  3.2461],\n",
       "         [ 5.5547,  7.7383,  0.6050,  ...,  6.9141,  3.6230, -5.7305],\n",
       "         [-0.8955,  1.2529,  0.7163,  ..., -1.2139, -6.7188, -7.1836],\n",
       "         ...,\n",
       "         [ 6.6797, 10.0703,  6.1953,  ..., -0.3054, -0.2661,  3.7930],\n",
       "         [10.1484,  3.9590,  9.8438,  ..., -4.1328, -7.3945, -8.6328],\n",
       "         [-2.6680, -1.1221,  7.5742,  ..., -5.4141,  5.0000, -7.3008]],\n",
       "        device='cuda:0', dtype=torch.float16, grad_fn=<MmBackward0>),\n",
       " torch.Size([1536, 384]))"
      ]
     },
     "execution_count": 7,
     "metadata": {},
     "output_type": "execute_result"
    }
   ],
   "source": [
    "w = ksl.get_dense_product()\n",
    "w, w.shape"
   ]
  },
  {
   "cell_type": "code",
   "execution_count": 8,
   "id": "37e4f82b",
   "metadata": {},
   "outputs": [
    {
     "data": {
      "text/plain": [
       "(tensor([[-1.0303, 10.1875, -1.1904,  ...,  3.1270, -2.2344,  3.2461],\n",
       "         [ 5.5547,  7.7383,  0.6050,  ...,  6.9141,  3.6230, -5.7305],\n",
       "         [-0.8955,  1.2529,  0.7163,  ..., -1.2139, -6.7188, -7.1836],\n",
       "         ...,\n",
       "         [ 6.6797, 10.0703,  6.1953,  ..., -0.3054, -0.2661,  3.7930],\n",
       "         [10.1484,  3.9590,  9.8438,  ..., -4.1328, -7.3945, -8.6328],\n",
       "         [-2.6680, -1.1221,  7.5742,  ..., -5.4141,  5.0000, -7.3008]],\n",
       "        device='cuda:0', dtype=torch.float16, grad_fn=<MmBackward0>),\n",
       " torch.Size([1536, 384]))"
      ]
     },
     "execution_count": 8,
     "metadata": {},
     "output_type": "execute_result"
    }
   ],
   "source": [
    "orig = torch.matmul(ksl.factors[1], ksl.factors[0])\n",
    "orig, orig.shape"
   ]
  },
  {
   "cell_type": "code",
   "execution_count": 15,
   "id": "320102fd",
   "metadata": {},
   "outputs": [
    {
     "data": {
      "text/plain": [
       "0.5416666666666666"
      ]
     },
     "execution_count": 15,
     "metadata": {},
     "output_type": "execute_result"
    }
   ],
   "source": [
    "ksl.get_weights_size() / orig.numel()"
   ]
  },
  {
   "cell_type": "code",
   "execution_count": 10,
   "id": "44b61faf",
   "metadata": {},
   "outputs": [
    {
     "data": {
      "text/plain": [
       "589824"
      ]
     },
     "execution_count": 10,
     "metadata": {},
     "output_type": "execute_result"
    }
   ],
   "source": [
    "1536 *  384"
   ]
  },
  {
   "cell_type": "code",
   "execution_count": 13,
   "id": "4a11f275",
   "metadata": {},
   "outputs": [
    {
     "data": {
      "text/plain": [
       "torch.Size([384, 1536])"
      ]
     },
     "execution_count": 13,
     "metadata": {},
     "output_type": "execute_result"
    }
   ],
   "source": [
    "orig_trans = orig.t()\n",
    "orig_trans.shape"
   ]
  },
  {
   "cell_type": "code",
   "execution_count": 14,
   "id": "1c1f41d0",
   "metadata": {},
   "outputs": [
    {
     "data": {
      "text/plain": [
       "589824"
      ]
     },
     "execution_count": 14,
     "metadata": {},
     "output_type": "execute_result"
    }
   ],
   "source": [
    "orig_trans.numel()"
   ]
  },
  {
   "cell_type": "code",
   "execution_count": 59,
   "id": "5a355d4b",
   "metadata": {},
   "outputs": [
    {
     "data": {
      "text/plain": [
       "tensor([[  32.1250, -185.8750, -144.2500,  ...,   69.5000,  -71.1875,\n",
       "           86.4375],\n",
       "        [-186.8750,  153.1250,  116.0625,  ...,   91.1250,  -25.3594,\n",
       "          -69.9375],\n",
       "        [-125.5625,  234.6250,  278.5000,  ...,  -25.8594,  -81.9375,\n",
       "          -84.9375],\n",
       "        ...,\n",
       "        [-162.3750,  -29.3594,   20.2031,  ..., -102.5625,  -81.8750,\n",
       "          -58.8438],\n",
       "        [-155.8750,   19.8438,  -26.1250,  ...,  179.2500, -134.0000,\n",
       "          -24.6406],\n",
       "        [  11.5625,  -55.6562,   73.4375,  ..., -118.1875,   73.8750,\n",
       "           58.2500]], device='cuda:0', dtype=torch.float16,\n",
       "       grad_fn=<MmBackward0>)"
      ]
     },
     "execution_count": 59,
     "metadata": {},
     "output_type": "execute_result"
    }
   ],
   "source": [
    "output_mm = torch.matmul(x, orig_trans)\n",
    "output_mm"
   ]
  },
  {
   "cell_type": "code",
   "execution_count": 60,
   "id": "41ad2339",
   "metadata": {},
   "outputs": [
    {
     "data": {
      "text/plain": [
       "tensor([[  32.0938, -185.7500, -144.2500,  ...,   69.4375,  -71.2500,\n",
       "           86.5625],\n",
       "        [-186.8750,  153.1250,  116.0000,  ...,   91.0625,  -25.3438,\n",
       "          -69.8750],\n",
       "        [-125.6250,  234.6250,  278.5000,  ...,  -25.9062,  -82.0000,\n",
       "          -84.8750],\n",
       "        ...,\n",
       "        [-162.3750,  -29.2812,   20.1875,  ..., -102.6250,  -81.9375,\n",
       "          -58.8125],\n",
       "        [-155.8750,   19.8750,  -26.1406,  ...,  179.2500, -133.8750,\n",
       "          -24.5938],\n",
       "        [  11.6016,  -55.6875,   73.4375,  ..., -118.1875,   73.8125,\n",
       "           58.2812]], device='cuda:0', dtype=torch.float16,\n",
       "       grad_fn=<ViewBackward0>)"
      ]
     },
     "execution_count": 60,
     "metadata": {},
     "output_type": "execute_result"
    }
   ],
   "source": [
    "output_ksl_dense = ksl(x)\n",
    "output_ksl_dense"
   ]
  },
  {
   "cell_type": "code",
   "execution_count": 61,
   "id": "c3e41847",
   "metadata": {},
   "outputs": [
    {
     "data": {
      "text/plain": [
       "False"
      ]
     },
     "execution_count": 61,
     "metadata": {},
     "output_type": "execute_result"
    }
   ],
   "source": [
    "torch.allclose(output_mm, output_ksl_dense, atol=1e-2, rtol=1e-2)"
   ]
  },
  {
   "cell_type": "code",
   "execution_count": 62,
   "id": "793e0ef4",
   "metadata": {},
   "outputs": [
    {
     "data": {
      "text/plain": [
       "(tensor([  0,   0,   0,  ..., 195, 195, 195], device='cuda:0'),\n",
       " tensor([   1,   14,   24,  ..., 1494, 1525, 1532], device='cuda:0'))"
      ]
     },
     "execution_count": 62,
     "metadata": {},
     "output_type": "execute_result"
    }
   ],
   "source": [
    "torch.where(torch.abs(output_mm - output_ksl_dense) > 1e-1)"
   ]
  },
  {
   "cell_type": "code",
   "execution_count": 5,
   "id": "8cb175d4",
   "metadata": {},
   "outputs": [
    {
     "name": "stdout",
     "output_type": "stream",
     "text": [
      "Generating butterfly patterns for a 16x16 matrix (n=4):\n",
      "\n",
      "Matrix product: W = K_1 * K_2 * K_3 * K_4\n",
      "Required chain of patterns (from right-most K_4 to left-most K_1):\n",
      "  - Pattern for K_4: (8, 2, 2, 1)  (a=8, b=2, c=2, d=1)\n",
      "  - Pattern for K_3: (4, 2, 2, 2)  (a=4, b=2, c=2, d=2)\n",
      "  - Pattern for K_2: (2, 2, 2, 4)  (a=2, b=2, c=2, d=4)\n",
      "  - Pattern for K_1: (1, 2, 2, 8)  (a=1, b=2, c=2, d=8)\n"
     ]
    }
   ],
   "source": [
    "from typing import List, Tuple\n",
    "\n",
    "def create_butterfly_patterns(n: int) -> List[Tuple[int, int, int, int]]:\n",
    "    \"\"\"\n",
    "    Generates the chain of Kronecker-Sparse patterns for a butterfly\n",
    "    decomposition of a 2^n x 2^n square matrix.\n",
    "\n",
    "    A butterfly matrix W of size 2^n x 2^n can be factored into n\n",
    "    Kronecker-Sparse matrices: W = K_1 * K_2 * ... * K_n.\n",
    "\n",
    "    The ℓ-th factor, K_ℓ, has a pattern corresponding to (a, b, c, d) where:\n",
    "    a = 2**(ℓ-1)\n",
    "    b = 2\n",
    "    c = 2\n",
    "    d = 2**(n-ℓ)\n",
    "\n",
    "    Args:\n",
    "        n: The power of 2 defining the matrix dimension (2^n x 2^n).\n",
    "           Must be a positive integer.\n",
    "\n",
    "    Returns:\n",
    "        A list of n tuples, where each tuple is an (a, b, c, d) pattern.\n",
    "        The list is ordered for direct use in libraries like ksmm,\n",
    "        meaning patterns[0] corresponds to the right-most matrix factor (K_n)\n",
    "        and patterns[-1] corresponds to the left-most factor (K_1).\n",
    "    \"\"\"\n",
    "    if not isinstance(n, int) or n <= 0:\n",
    "        raise ValueError(\"Input 'n' must be a positive integer.\")\n",
    "\n",
    "    patterns = []\n",
    "    # The loop variable 'l' corresponds to the index in the matrix product K_1 * ... * K_n\n",
    "    for l in range(1, n + 1):\n",
    "        a = 2**(l - 1)\n",
    "        b = 2\n",
    "        c = 2\n",
    "        d = 2**(n - l)\n",
    "        pattern = (a, b, c, d)\n",
    "        patterns.append(pattern)\n",
    "\n",
    "    # Reverse the list to match the convention where the first pattern in the list\n",
    "    # corresponds to the right-most matrix in the product.\n",
    "    # W = K_1 * K_2 * ... * K_n\n",
    "    # patterns = [pattern_for_Kn, ..., pattern_for_K2, pattern_for_K1]\n",
    "    return patterns[::-1]\n",
    "\n",
    "# --- Example Usage ---\n",
    "n = 4  # For a 16x16 matrix (2^4 x 2^4)\n",
    "try:\n",
    "    butterfly_chain = create_butterfly_patterns(n)\n",
    "    print(f\"Generating butterfly patterns for a {2**n}x{2**n} matrix (n={n}):\\n\")\n",
    "    print(f\"Matrix product: W = K_1 * K_2 * K_3 * K_4\")\n",
    "    print(\"Required chain of patterns (from right-most K_4 to left-most K_1):\")\n",
    "    \n",
    "    # Print the patterns with their corresponding matrix factor\n",
    "    for i, p in enumerate(butterfly_chain):\n",
    "        factor_index = n - i\n",
    "        print(f\"  - Pattern for K_{factor_index}: {p}  (a={p[0]}, b={p[1]}, c={p[2]}, d={p[3]})\")\n",
    "\n",
    "except ValueError as e:\n",
    "    print(e)\n",
    "\n"
   ]
  },
  {
   "cell_type": "code",
   "execution_count": 7,
   "id": "7316956a",
   "metadata": {},
   "outputs": [
    {
     "name": "stdout",
     "output_type": "stream",
     "text": [
      "\n",
      "Generating butterfly patterns for a 16x16 matrix (n=4):\n",
      "\n",
      "Matrix product: W = K_1 * K_2 * K_3\n",
      "Required chain of patterns (from right-most K_3 to left-most K_1):\n",
      "  - Pattern for K_4: (8, 2, 2, 1)\n",
      "  - Pattern for K_3: (4, 2, 2, 2)\n",
      "  - Pattern for K_2: (2, 2, 2, 4)\n",
      "  - Pattern for K_1: (1, 2, 2, 8)\n"
     ]
    }
   ],
   "source": [
    "# --- Example for n=3 (8x8 matrix) ---\n",
    "n_3 = 4\n",
    "try:\n",
    "    butterfly_chain_3 = create_butterfly_patterns(n_3)\n",
    "    print(f\"\\nGenerating butterfly patterns for a {2**n_3}x{2**n_3} matrix (n={n_3}):\\n\")\n",
    "    print(f\"Matrix product: W = K_1 * K_2 * K_3\")\n",
    "    print(\"Required chain of patterns (from right-most K_3 to left-most K_1):\")\n",
    "    \n",
    "    for i, p in enumerate(butterfly_chain_3):\n",
    "        factor_index = n_3 - i\n",
    "        print(f\"  - Pattern for K_{factor_index}: {p}\")\n",
    "\n",
    "except ValueError as e:\n",
    "    print(e)"
   ]
  },
  {
   "cell_type": "code",
   "execution_count": 8,
   "id": "a299a29e",
   "metadata": {},
   "outputs": [],
   "source": [
    "def create_butterfly_patterns(n: int) -> List[Tuple[int, int, int, int]]:\n",
    "    \"\"\"\n",
    "    Generates the chain of Kronecker-Sparse patterns for a butterfly\n",
    "    decomposition of a 2^n x 2^n square matrix.\n",
    "\n",
    "    A butterfly matrix W of size 2^n x 2^n can be factored into n\n",
    "    Kronecker-Sparse matrices: W = K_1 * K_2 * ... * K_n.\n",
    "\n",
    "    The ℓ-th factor, K_ℓ, has a pattern corresponding to (a, b, c, d) where:\n",
    "    a = 2**(ℓ-1)\n",
    "    b = 2\n",
    "    c = 2\n",
    "    d = 2**(n-ℓ)\n",
    "\n",
    "    Args:\n",
    "        n: The power of 2 defining the matrix dimension (2^n x 2^n).\n",
    "           Must be a positive integer.\n",
    "\n",
    "    Returns:\n",
    "        A list of n tuples, where each tuple is an (a, b, c, d) pattern.\n",
    "        The list is ordered for direct use in libraries like ksmm,\n",
    "        meaning patterns[0] corresponds to the right-most matrix factor (K_n)\n",
    "        and patterns[-1] corresponds to the left-most factor (K_1).\n",
    "    \"\"\"\n",
    "    if not isinstance(n, int) or n <= 0:\n",
    "        raise ValueError(\"Input 'n' must be a positive integer.\")\n",
    "\n",
    "    patterns = []\n",
    "    # The loop variable 'l' corresponds to the index in the matrix product K_1 * ... * K_n\n",
    "    for l in range(1, n + 1):\n",
    "        a = 2**(l - 1)\n",
    "        b = 2\n",
    "        c = 2\n",
    "        d = 2**(n - l)\n",
    "        pattern = (a, b, c, d)\n",
    "        patterns.append(pattern)\n",
    "\n",
    "    # Reverse the list to match the convention where the first pattern in the list\n",
    "    # corresponds to the right-most matrix in the product.\n",
    "    # W = K_1 * K_2 * ... * K_n\n",
    "    # patterns = [pattern_for_Kn, ..., pattern_for_K2, pattern_for_K1]\n",
    "    return patterns[::-1]"
   ]
  },
  {
   "cell_type": "code",
   "execution_count": 12,
   "id": "4d638a98",
   "metadata": {},
   "outputs": [
    {
     "data": {
      "text/plain": [
       "'[(8, 2, 2, 1), (4, 2, 2, 2), (2, 2, 2, 4), (1, 2, 2, 8)]'"
      ]
     },
     "execution_count": 12,
     "metadata": {},
     "output_type": "execute_result"
    }
   ],
   "source": [
    "str(create_butterfly_patterns(4))"
   ]
  },
  {
   "cell_type": "code",
   "execution_count": null,
   "id": "266f61e4",
   "metadata": {},
   "outputs": [],
   "source": [
    "def list_to_pattern_string(lst):\n",
    "    return str(lst)"
   ]
  },
  {
   "cell_type": "code",
   "execution_count": null,
   "id": "336d5bdd",
   "metadata": {},
   "outputs": [],
   "source": []
  }
 ],
 "metadata": {
  "kernelspec": {
   "display_name": "ksmm",
   "language": "python",
   "name": "python3"
  },
  "language_info": {
   "codemirror_mode": {
    "name": "ipython",
    "version": 3
   },
   "file_extension": ".py",
   "mimetype": "text/x-python",
   "name": "python",
   "nbconvert_exporter": "python",
   "pygments_lexer": "ipython3",
   "version": "3.11.13"
  }
 },
 "nbformat": 4,
 "nbformat_minor": 5
}
