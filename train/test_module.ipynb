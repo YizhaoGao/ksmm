{
 "cells": [
  {
   "cell_type": "code",
   "execution_count": 1,
   "id": "b189d445",
   "metadata": {},
   "outputs": [
    {
     "name": "stdout",
     "output_type": "stream",
     "text": [
      "Generated 10 configurations\n"
     ]
    }
   ],
   "source": [
    "import torch\n",
    "from ksmm_triton.ksmm_module import create_butterfly_patterns, create_butterfly_chain\n"
   ]
  },
  {
   "cell_type": "code",
   "execution_count": 2,
   "id": "03b3642d",
   "metadata": {},
   "outputs": [],
   "source": [
    "orig_weight = torch.load(\"ckpt/gate_proj_weights0.pth\")"
   ]
  },
  {
   "cell_type": "code",
   "execution_count": 3,
   "id": "fb504b21",
   "metadata": {},
   "outputs": [
    {
     "data": {
      "text/plain": [
       "torch.Size([2048, 720])"
      ]
     },
     "execution_count": 3,
     "metadata": {},
     "output_type": "execute_result"
    }
   ],
   "source": [
    "orig_weight.shape"
   ]
  },
  {
   "cell_type": "code",
   "execution_count": 19,
   "id": "841d87d4",
   "metadata": {},
   "outputs": [],
   "source": [
    "shape = orig_weight.shape\n",
    "chain = create_butterfly_chain(shape, rank=4, dtype=torch.float16, device='cuda', bs_last=False)"
   ]
  },
  {
   "cell_type": "code",
   "execution_count": 20,
   "id": "e23ad60e",
   "metadata": {},
   "outputs": [],
   "source": [
    "batch_size = 32\n",
    "x = torch.randn( batch_size, shape[1], dtype=torch.float16, device='cuda')\n",
    "output = chain(x)  # Shape: (batch_size, shape[0])"
   ]
  },
  {
   "cell_type": "code",
   "execution_count": 23,
   "id": "add2c24a",
   "metadata": {},
   "outputs": [
    {
     "data": {
      "text/plain": [
       "torch.Size([32, 2048])"
      ]
     },
     "execution_count": 23,
     "metadata": {},
     "output_type": "execute_result"
    }
   ],
   "source": [
    "output.shape"
   ]
  },
  {
   "cell_type": "code",
   "execution_count": 18,
   "id": "56d8e343",
   "metadata": {},
   "outputs": [
    {
     "data": {
      "text/plain": [
       "KSLinearTriton(\n",
       "  in_features=720, out_features=2048, bias=True, patterns=[(1, 4, 720, 1), (1, 2048, 4, 1), (1024, 2, 2, 1), (512, 2, 2, 2), (256, 2, 2, 4), (128, 2, 2, 8), (64, 2, 2, 16), (32, 2, 2, 32), (16, 2, 2, 64), (8, 2, 2, 128), (4, 2, 2, 256), (2, 2, 2, 512), (1, 2, 2, 1024)], dtype=torch.float16, bs_last=True\n",
       "  (weights): ParameterList(\n",
       "      (0): Parameter containing: [torch.float16 of size 1x720x4 (cuda:0)]\n",
       "      (1): Parameter containing: [torch.float16 of size 1x4x2048 (cuda:0)]\n",
       "      (2): Parameter containing: [torch.float16 of size 1024x2x2 (cuda:0)]\n",
       "      (3): Parameter containing: [torch.float16 of size 1024x2x2 (cuda:0)]\n",
       "      (4): Parameter containing: [torch.float16 of size 1024x2x2 (cuda:0)]\n",
       "      (5): Parameter containing: [torch.float16 of size 1024x2x2 (cuda:0)]\n",
       "      (6): Parameter containing: [torch.float16 of size 1024x2x2 (cuda:0)]\n",
       "      (7): Parameter containing: [torch.float16 of size 1024x2x2 (cuda:0)]\n",
       "      (8): Parameter containing: [torch.float16 of size 1024x2x2 (cuda:0)]\n",
       "      (9): Parameter containing: [torch.float16 of size 1024x2x2 (cuda:0)]\n",
       "      (10): Parameter containing: [torch.float16 of size 1024x2x2 (cuda:0)]\n",
       "      (11): Parameter containing: [torch.float16 of size 1024x2x2 (cuda:0)]\n",
       "      (12): Parameter containing: [torch.float16 of size 1024x2x2 (cuda:0)]\n",
       "  )\n",
       ")"
      ]
     },
     "execution_count": 18,
     "metadata": {},
     "output_type": "execute_result"
    }
   ],
   "source": [
    "chain"
   ]
  },
  {
   "cell_type": "code",
   "execution_count": 8,
   "id": "98e33412",
   "metadata": {},
   "outputs": [],
   "source": [
    "patterns = chain.patterns"
   ]
  },
  {
   "cell_type": "code",
   "execution_count": 9,
   "id": "4fc49353",
   "metadata": {},
   "outputs": [
    {
     "name": "stdout",
     "output_type": "stream",
     "text": [
      "Total parameters in chain: 56128\n",
      "Total parameters in dense weight: 1474560\n",
      "Compression ratio: 26.27\n"
     ]
    }
   ],
   "source": [
    "total_params = sum(a * b * c * d for a, b, c, d in patterns)\n",
    "dense_params = orig_weight.numel()\n",
    "\n",
    "print(f\"Total parameters in chain: {total_params}\")\n",
    "print(f\"Total parameters in dense weight: {dense_params}\")\n",
    "print(f\"Compression ratio: {dense_params / total_params:.2f}\")"
   ]
  },
  {
   "cell_type": "code",
   "execution_count": 10,
   "id": "002b1eb6",
   "metadata": {},
   "outputs": [
    {
     "data": {
      "text/plain": [
       "1474560"
      ]
     },
     "execution_count": 10,
     "metadata": {},
     "output_type": "execute_result"
    }
   ],
   "source": [
    "dense_params"
   ]
  },
  {
   "cell_type": "code",
   "execution_count": 11,
   "id": "43a9648e",
   "metadata": {},
   "outputs": [
    {
     "data": {
      "text/plain": [
       "1474560"
      ]
     },
     "execution_count": 11,
     "metadata": {},
     "output_type": "execute_result"
    }
   ],
   "source": [
    "720 * 2048"
   ]
  },
  {
   "cell_type": "code",
   "execution_count": 12,
   "id": "f6c51539",
   "metadata": {},
   "outputs": [
    {
     "data": {
      "text/plain": [
       "torch.Size([2048, 720])"
      ]
     },
     "execution_count": 12,
     "metadata": {},
     "output_type": "execute_result"
    }
   ],
   "source": [
    "orig_weight.shape"
   ]
  },
  {
   "cell_type": "code",
   "execution_count": 13,
   "id": "f51305b4",
   "metadata": {},
   "outputs": [
    {
     "data": {
      "text/plain": [
       "[(1, 4, 720, 1),\n",
       " (1, 2048, 4, 1),\n",
       " (1024, 2, 2, 1),\n",
       " (512, 2, 2, 2),\n",
       " (256, 2, 2, 4),\n",
       " (128, 2, 2, 8),\n",
       " (64, 2, 2, 16),\n",
       " (32, 2, 2, 32),\n",
       " (16, 2, 2, 64),\n",
       " (8, 2, 2, 128),\n",
       " (4, 2, 2, 256),\n",
       " (2, 2, 2, 512),\n",
       " (1, 2, 2, 1024)]"
      ]
     },
     "execution_count": 13,
     "metadata": {},
     "output_type": "execute_result"
    }
   ],
   "source": [
    "patterns"
   ]
  },
  {
   "cell_type": "code",
   "execution_count": null,
   "id": "d147a40b",
   "metadata": {},
   "outputs": [],
   "source": []
  }
 ],
 "metadata": {
  "kernelspec": {
   "display_name": "ksmm",
   "language": "python",
   "name": "python3"
  },
  "language_info": {
   "codemirror_mode": {
    "name": "ipython",
    "version": 3
   },
   "file_extension": ".py",
   "mimetype": "text/x-python",
   "name": "python",
   "nbconvert_exporter": "python",
   "pygments_lexer": "ipython3",
   "version": "3.11.13"
  }
 },
 "nbformat": 4,
 "nbformat_minor": 5
}
